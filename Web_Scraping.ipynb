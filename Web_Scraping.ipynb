{
  "nbformat": 4,
  "nbformat_minor": 0,
  "metadata": {
    "colab": {
      "provenance": [],
      "authorship_tag": "ABX9TyPOC73RHXXna4jX8zLvDb1E",
      "include_colab_link": true
    },
    "kernelspec": {
      "name": "python3",
      "display_name": "Python 3"
    },
    "language_info": {
      "name": "python"
    }
  },
  "cells": [
    {
      "cell_type": "markdown",
      "metadata": {
        "id": "view-in-github",
        "colab_type": "text"
      },
      "source": [
        "<a href=\"https://colab.research.google.com/github/DhananiParita/Web-Scraping-using-python/blob/main/Web_Scraping.ipynb\" target=\"_parent\"><img src=\"https://colab.research.google.com/assets/colab-badge.svg\" alt=\"Open In Colab\"/></a>"
      ]
    },
    {
      "cell_type": "code",
      "execution_count": null,
      "metadata": {
        "colab": {
          "base_uri": "https://localhost:8080/"
        },
        "id": "X8p0GgzRNu4B",
        "outputId": "bafeb2d7-4e30-401a-8f3a-6c8bbb5e5647"
      },
      "outputs": [
        {
          "output_type": "stream",
          "name": "stdout",
          "text": [
            "{'title': 'A Light in the Attic', 'price': 'Â£51.77'}\n",
            "{'title': 'Tipping the Velvet', 'price': 'Â£53.74'}\n",
            "{'title': 'Soumission', 'price': 'Â£50.10'}\n",
            "{'title': 'Sharp Objects', 'price': 'Â£47.82'}\n",
            "{'title': 'Sapiens: A Brief History of Humankind', 'price': 'Â£54.23'}\n",
            "{'title': 'The Requiem Red', 'price': 'Â£22.65'}\n",
            "{'title': 'The Dirty Little Secrets of Getting Your Dream Job', 'price': 'Â£33.34'}\n",
            "{'title': 'The Coming Woman: A Novel Based on the Life of the Infamous Feminist, Victoria Woodhull', 'price': 'Â£17.93'}\n",
            "{'title': 'The Boys in the Boat: Nine Americans and Their Epic Quest for Gold at the 1936 Berlin Olympics', 'price': 'Â£22.60'}\n",
            "{'title': 'The Black Maria', 'price': 'Â£52.15'}\n",
            "{'title': 'Starving Hearts (Triangular Trade Trilogy, #1)', 'price': 'Â£13.99'}\n",
            "{'title': \"Shakespeare's Sonnets\", 'price': 'Â£20.66'}\n",
            "{'title': 'Set Me Free', 'price': 'Â£17.46'}\n",
            "{'title': \"Scott Pilgrim's Precious Little Life (Scott Pilgrim #1)\", 'price': 'Â£52.29'}\n",
            "{'title': 'Rip it Up and Start Again', 'price': 'Â£35.02'}\n",
            "{'title': 'Our Band Could Be Your Life: Scenes from the American Indie Underground, 1981-1991', 'price': 'Â£57.25'}\n",
            "{'title': 'Olio', 'price': 'Â£23.88'}\n",
            "{'title': 'Mesaerion: The Best Science Fiction Stories 1800-1849', 'price': 'Â£37.59'}\n",
            "{'title': 'Libertarianism for Beginners', 'price': 'Â£51.33'}\n",
            "{'title': \"It's Only the Himalayas\", 'price': 'Â£45.17'}\n"
          ]
        }
      ],
      "source": [
        "import bs4\n",
        "import requests\n",
        "\n",
        "url = 'https://books.toscrape.com/'\n",
        "\n",
        "result = requests.get(url)\n",
        "\n",
        "soup = bs4.BeautifulSoup(result.text,'html.parser')\n",
        "\n",
        "articles = soup.find_all('article',class_=\"product_pod\")\n",
        "\n",
        "book_data = []\n",
        "\n",
        "for i in articles:\n",
        "  name = i.find('img').attrs['alt']\n",
        "  price = i.find('p',class_=\"price_color\").get_text()\n",
        "  entity= {'title':name,'price':price}\n",
        "  book_data.append(entity)\n",
        "\n",
        "for i in book_data:\n",
        "  print(i)"
      ]
    },
    {
      "cell_type": "code",
      "source": [],
      "metadata": {
        "id": "HMaisg_wWuAv"
      },
      "execution_count": null,
      "outputs": []
    }
  ]
}